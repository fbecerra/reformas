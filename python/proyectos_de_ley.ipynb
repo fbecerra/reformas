{
 "cells": [
  {
   "cell_type": "code",
   "execution_count": null,
   "metadata": {},
   "outputs": [],
   "source": [
    "from urllib.request import urlopen\n",
    "import xmltodict\n",
    "import json"
   ]
  },
  {
   "cell_type": "code",
   "execution_count": null,
   "metadata": {},
   "outputs": [],
   "source": [
    "file = urlopen('http://www.senado.cl/wspublico/tramitacion.php?fecha=05/09/2020')\n",
    "xmldata = file.read()\n",
    "file.close()"
   ]
  },
  {
   "cell_type": "code",
   "execution_count": null,
   "metadata": {},
   "outputs": [],
   "source": [
    "data = xmltodict.parse(xmldata, force_list=('indicacion', 'informe', 'oficio', 'tramite',\n",
    "                                           'urgencia', 'votacion'))"
   ]
  },
  {
   "cell_type": "code",
   "execution_count": null,
   "metadata": {},
   "outputs": [],
   "source": [
    "json_data = json.dumps(data, ensure_ascii=False)"
   ]
  },
  {
   "cell_type": "code",
   "execution_count": null,
   "metadata": {},
   "outputs": [],
   "source": [
    "with open(\"data/data.json\", \"w\") as json_file:\n",
    "    json_file.write(json_data)"
   ]
  },
  {
   "cell_type": "code",
   "execution_count": null,
   "metadata": {},
   "outputs": [],
   "source": [
    "projects = json.loads(json_data)"
   ]
  },
  {
   "cell_type": "code",
   "execution_count": null,
   "metadata": {},
   "outputs": [],
   "source": [
    "campos = [['autores', 'autor'], ['comparados', 'comparado'], ['materias', 'materia'],\n",
    "    ['indicaciones', 'indicacion', 'FECHA'], ['informes', 'informe', 'FECHAINFORME'],\n",
    "        ['oficios', 'oficio', 'FECHA'], ['tramitacion', 'tramite', 'FECHA'],\n",
    "        ['urgencias', 'urgencia', 'FECHAINGRESO'], ['votaciones', 'votacion', 'FECHA']]\n",
    "\n",
    "new_json = []\n",
    "for proyecto in projects['proyectos']['proyecto']:\n",
    "    json_project = {}\n",
    "    json_project['descripcion'] = proyecto['descripcion']\n",
    "    for campo in campos:\n",
    "        if proyecto[campo[0]] is not None:\n",
    "            json_project[campo[0]] = proyecto[campo[0]][campo[1]]\n",
    "            if campo[0] == 'tramitacion':\n",
    "                arr = []\n",
    "                for i,tramite in enumerate(json_project[campo[0]]):\n",
    "                    if i == 0:\n",
    "                        obj = {}\n",
    "                        camara = tramite['CAMARATRAMITE']\n",
    "                        fecha_inicio = tramite['FECHA']\n",
    "                    if tramite['CAMARATRAMITE'] != camara:\n",
    "                        fecha_termino = tramite['FECHA']\n",
    "                        obj['camara'] = camara\n",
    "                        obj['inicio'] = fecha_inicio\n",
    "                        obj['termino'] = fecha_termino\n",
    "                        arr.append(obj)\n",
    "\n",
    "                        obj = {}\n",
    "                        camara = tramite['CAMARATRAMITE']\n",
    "                        fecha_inicio = tramite['FECHA']\n",
    "                    if i == len(json_project[campo[0]]) - 1:\n",
    "                        fecha_termino = tramite['FECHA']\n",
    "                        obj['camara'] = camara\n",
    "                        obj['inicio'] = fecha_inicio\n",
    "                        obj['termino'] = fecha_termino\n",
    "                        arr.append(obj)\n",
    "                json_project['camaras'] = arr\n",
    "        else:\n",
    "            json_project[campo[0]] = None\n",
    "            if campo[0] == 'tramitacion':\n",
    "                json_project['camaras'] = None\n",
    "            \n",
    "    new_json.append(json_project)"
   ]
  },
  {
   "cell_type": "code",
   "execution_count": null,
   "metadata": {},
   "outputs": [],
   "source": []
  },
  {
   "cell_type": "code",
   "execution_count": null,
   "metadata": {},
   "outputs": [],
   "source": [
    "with open(\"data/new_data.json\", \"w\") as json_file:\n",
    "    this_file = json.dumps(new_json, ensure_ascii=False)\n",
    "    json_file.write(this_file)"
   ]
  },
  {
   "cell_type": "code",
   "execution_count": null,
   "metadata": {},
   "outputs": [],
   "source": []
  }
 ],
 "metadata": {
  "kernelspec": {
   "display_name": "Python 3",
   "language": "python",
   "name": "python3"
  },
  "language_info": {
   "codemirror_mode": {
    "name": "ipython",
    "version": 3
   },
   "file_extension": ".py",
   "mimetype": "text/x-python",
   "name": "python",
   "nbconvert_exporter": "python",
   "pygments_lexer": "ipython3",
   "version": "3.7.2"
  }
 },
 "nbformat": 4,
 "nbformat_minor": 2
}
