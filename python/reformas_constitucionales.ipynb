{
 "cells": [
  {
   "cell_type": "code",
   "execution_count": 10,
   "metadata": {},
   "outputs": [],
   "source": [
    "import pandas as pd\n",
    "import numpy as np\n",
    "from urllib.request import urlopen\n",
    "import xmltodict\n",
    "import json"
   ]
  },
  {
   "cell_type": "code",
   "execution_count": 2,
   "metadata": {},
   "outputs": [
    {
     "data": {
      "text/html": [
       "<div>\n",
       "<style scoped>\n",
       "    .dataframe tbody tr th:only-of-type {\n",
       "        vertical-align: middle;\n",
       "    }\n",
       "\n",
       "    .dataframe tbody tr th {\n",
       "        vertical-align: top;\n",
       "    }\n",
       "\n",
       "    .dataframe thead th {\n",
       "        text-align: right;\n",
       "    }\n",
       "</style>\n",
       "<table border=\"1\" class=\"dataframe\">\n",
       "  <thead>\n",
       "    <tr style=\"text-align: right;\">\n",
       "      <th></th>\n",
       "      <th>Fecha</th>\n",
       "      <th>N° Boletín</th>\n",
       "      <th>Título</th>\n",
       "      <th>Estado</th>\n",
       "    </tr>\n",
       "  </thead>\n",
       "  <tbody>\n",
       "    <tr>\n",
       "      <th>0</th>\n",
       "      <td>22/09/2020</td>\n",
       "      <td>13800-07</td>\n",
       "      <td>Modifica la Carta Fundamental, para establecer...</td>\n",
       "      <td>En tramitación</td>\n",
       "    </tr>\n",
       "    <tr>\n",
       "      <th>1</th>\n",
       "      <td>17/09/2020</td>\n",
       "      <td>13798-07</td>\n",
       "      <td>Modifica la Carta Fundamental, para exigir el ...</td>\n",
       "      <td>En tramitación</td>\n",
       "    </tr>\n",
       "    <tr>\n",
       "      <th>2</th>\n",
       "      <td>16/09/2020</td>\n",
       "      <td>13796-07</td>\n",
       "      <td>Modifica la Carta Fundamental, para eliminar l...</td>\n",
       "      <td>En tramitación</td>\n",
       "    </tr>\n",
       "    <tr>\n",
       "      <th>3</th>\n",
       "      <td>16/09/2020</td>\n",
       "      <td>13797-07</td>\n",
       "      <td>Modifica la Carta Fundamental, para determinar...</td>\n",
       "      <td>En tramitación</td>\n",
       "    </tr>\n",
       "    <tr>\n",
       "      <th>4</th>\n",
       "      <td>16/09/2020</td>\n",
       "      <td>13792-07</td>\n",
       "      <td>Proyecto de reforma constitucional que facilit...</td>\n",
       "      <td>En tramitación</td>\n",
       "    </tr>\n",
       "  </tbody>\n",
       "</table>\n",
       "</div>"
      ],
      "text/plain": [
       "        Fecha N° Boletín                                             Título  \\\n",
       "0  22/09/2020   13800-07  Modifica la Carta Fundamental, para establecer...   \n",
       "1  17/09/2020   13798-07  Modifica la Carta Fundamental, para exigir el ...   \n",
       "2  16/09/2020   13796-07  Modifica la Carta Fundamental, para eliminar l...   \n",
       "3  16/09/2020   13797-07  Modifica la Carta Fundamental, para determinar...   \n",
       "4  16/09/2020   13792-07  Proyecto de reforma constitucional que facilit...   \n",
       "\n",
       "           Estado  \n",
       "0  En tramitación  \n",
       "1  En tramitación  \n",
       "2  En tramitación  \n",
       "3  En tramitación  \n",
       "4  En tramitación  "
      ]
     },
     "execution_count": 2,
     "metadata": {},
     "output_type": "execute_result"
    }
   ],
   "source": [
    "df = pd.read_excel('../data/grid.xlsx')\n",
    "df.head()"
   ]
  },
  {
   "cell_type": "code",
   "execution_count": 4,
   "metadata": {},
   "outputs": [
    {
     "data": {
      "text/plain": [
       "array(['En tramitación', 'Publicado: Ley N° 21.261',\n",
       "       'Publicado: Ley N° 21.257', 'Publicado: Ley N° 21.248',\n",
       "       'Publicado: Ley N° 21.253', 'Publicado: Ley N° 21.237',\n",
       "       'Publicado: Ley N° 21.221', 'Publicado: Ley N° 21.219',\n",
       "       'Publicado: Ley N° 21.216', 'Rechazado',\n",
       "       'Publicado: Ley N° 21.200', 'Publicado: Ley N° 21233', 'Retirado',\n",
       "       'Publicado: Ley N° 21.011', 'Archivado',\n",
       "       'Publicado: Ley N° 20.990', 'Publicado: Ley N° 20.870',\n",
       "       'Publicado: Ley N° 21.096', 'Publicado: Ley N° 21.233',\n",
       "       'Publicado: Ley Nº 20.725', 'Publicado: Ley Nº 20.748',\n",
       "       'Publicado: Ley Nº 20.710', 'Publicado: Ley N° 20854',\n",
       "       'Publicado: Ley N° 21.238', 'Publicado: Ley N° 20.515',\n",
       "       'Publicado: Ley Nº 20.573', 'Publicado: Ley N° 20.516',\n",
       "       'Publicado: Ley Nº 20.503', 'Publicado: Ley Nº 20.193',\n",
       "       'Publicado: Ley Nº 20.162', 'Publicado: Ley Nº 20.390',\n",
       "       'Publicado: Ley Nº 20.352', 'Publicado: Ley Nº 20.050',\n",
       "       'Publicado: Ley Nº 19.672', 'Publicado: Ley Nº 19.643',\n",
       "       'Publicado: Ley Nº 19.634', 'Publicado: Ley Nº 19.671',\n",
       "       'Publicado: Ley Nº 19.541', 'Publicado: Ley Nº 19.742',\n",
       "       'Publicado: Ley Nº 19.519', 'Publicado: Ley Nº 19.448',\n",
       "       'Publicado: Ley Nº 19.597', 'Publicado: Ley Nº 19.526',\n",
       "       'Publicado: Ley Nº 19.611', 'Publicado: Ley Nº 19.411',\n",
       "       'Publicado: Ley Nº 19.097', 'Publicado: Ley Nº 19.055'],\n",
       "      dtype=object)"
      ]
     },
     "execution_count": 4,
     "metadata": {},
     "output_type": "execute_result"
    }
   ],
   "source": [
    "pd.unique(df['Estado'].values.ravel())"
   ]
  },
  {
   "cell_type": "code",
   "execution_count": 28,
   "metadata": {},
   "outputs": [],
   "source": [
    "def get_url(string):\n",
    "    return \"https://www.senado.cl/wspublico/tramitacion.php?boletin=\" + string\n",
    "\n",
    "campos = [['autores', 'autor'], ['comparados', 'comparado'], ['materias', 'materia'],\n",
    "        ['indicaciones', 'indicacion', 'FECHA'], ['informes', 'informe', 'FECHAINFORME'],\n",
    "        ['oficios', 'oficio', 'FECHA'], ['tramitacion', 'tramite', 'FECHA'],\n",
    "        ['urgencias', 'urgencia', 'FECHAINGRESO'], ['votaciones', 'votacion', 'FECHA']]\n",
    "\n",
    "new_json = []\n",
    "\n",
    "for i in range(df.shape[0]-1, -1, -1):\n",
    "\n",
    "    boletin = df.iloc[i]['N° Boletín'].split('-')[0]\n",
    "    url = get_url(boletin)\n",
    "\n",
    "    file = urlopen(url)\n",
    "    xmldata = file.read()\n",
    "    file.close()\n",
    "\n",
    "    data = xmltodict.parse(xmldata, force_list=('indicacion', 'informe', 'oficio', 'tramite',\n",
    "                                               'urgencia', 'votacion'))\n",
    "    json_data = json.dumps(data, ensure_ascii=False)\n",
    "    projects = json.loads(json_data)\n",
    "\n",
    "    proyecto = projects['proyectos']['proyecto']\n",
    "    json_project = {}\n",
    "    json_project['descripcion'] = proyecto['descripcion']\n",
    "    for campo in campos:\n",
    "        if proyecto[campo[0]] is not None:\n",
    "            json_project[campo[0]] = proyecto[campo[0]][campo[1]]\n",
    "            if campo[0] == 'tramitacion':\n",
    "                arr = []\n",
    "                for i,tramite in enumerate(json_project[campo[0]]):\n",
    "                    if i == 0:\n",
    "                        obj = {}\n",
    "                        camara = tramite['CAMARATRAMITE']\n",
    "                        fecha_inicio = tramite['FECHA']\n",
    "                    if tramite['CAMARATRAMITE'] != camara:\n",
    "                        fecha_termino = tramite['FECHA']\n",
    "                        obj['camara'] = camara\n",
    "                        obj['inicio'] = fecha_inicio\n",
    "                        obj['termino'] = fecha_termino\n",
    "                        arr.append(obj)\n",
    "\n",
    "                        obj = {}\n",
    "                        camara = tramite['CAMARATRAMITE']\n",
    "                        fecha_inicio = tramite['FECHA']\n",
    "                    if i == len(json_project[campo[0]]) - 1:\n",
    "                        fecha_termino = tramite['FECHA']\n",
    "                        obj['camara'] = camara\n",
    "                        obj['inicio'] = fecha_inicio\n",
    "                        obj['termino'] = fecha_termino\n",
    "                        arr.append(obj)\n",
    "                json_project['camaras'] = arr\n",
    "        else:\n",
    "            json_project[campo[0]] = None\n",
    "            if campo[0] == 'tramitacion':\n",
    "                json_project['camaras'] = None\n",
    "            \n",
    "    new_json.append(json_project)"
   ]
  },
  {
   "cell_type": "code",
   "execution_count": 29,
   "metadata": {},
   "outputs": [],
   "source": [
    "with open(\"../data/reformas.json\", \"w\") as json_file:\n",
    "    this_file = json.dumps(new_json, ensure_ascii=False)\n",
    "    json_file.write(this_file)"
   ]
  }
 ],
 "metadata": {
  "kernelspec": {
   "display_name": "Python 3",
   "language": "python",
   "name": "python3"
  },
  "language_info": {
   "codemirror_mode": {
    "name": "ipython",
    "version": 3
   },
   "file_extension": ".py",
   "mimetype": "text/x-python",
   "name": "python",
   "nbconvert_exporter": "python",
   "pygments_lexer": "ipython3",
   "version": "3.7.2"
  }
 },
 "nbformat": 4,
 "nbformat_minor": 2
}
